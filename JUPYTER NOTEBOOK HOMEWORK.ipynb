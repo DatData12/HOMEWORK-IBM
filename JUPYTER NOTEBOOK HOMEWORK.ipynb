{
  "metadata": {
    "kernelspec": {
      "name": "python",
      "display_name": "Python (Pyodide)",
      "language": "python"
    },
    "language_info": {
      "codemirror_mode": {
        "name": "python",
        "version": 3
      },
      "file_extension": ".py",
      "mimetype": "text/x-python",
      "name": "python",
      "nbconvert_exporter": "python",
      "pygments_lexer": "ipython3",
      "version": "3.8"
    }
  },
  "nbformat_minor": 4,
  "nbformat": 4,
  "cells": [
    {
      "cell_type": "code",
      "source": "# coursera homework IBM jupyternotebook",
      "metadata": {
        "trusted": true
      },
      "outputs": [],
      "execution_count": null
    },
    {
      "cell_type": "code",
      "source": "## Introduction\n\nWelcome to this notebook! In this notebook, we will explore various concepts related to [topic]. We will cover [list of topics or objectives]. \n\nLets get started!",
      "metadata": {
        "trusted": true,
        "collapsed": true,
        "jupyter": {
          "outputs_hidden": true
        }
      },
      "outputs": [
        {
          "ename": "<class 'SyntaxError'>",
          "evalue": "invalid syntax (<ipython-input-2-8779533743bf>, line 3)",
          "traceback": [
            "\u001b[0;36m  Cell \u001b[0;32mIn[2], line 3\u001b[0;36m\u001b[0m\n\u001b[0;31m    Welcome to this notebook! In this notebook, we will explore various concepts related to [topic]. We will cover [list of topics or objectives].\u001b[0m\n\u001b[0m            ^\u001b[0m\n\u001b[0;31mSyntaxError\u001b[0m\u001b[0;31m:\u001b[0m invalid syntax\n"
          ],
          "output_type": "error"
        }
      ],
      "execution_count": 2
    },
    {
      "cell_type": "code",
      "source": "## Data Science Languages\n\nHere are some popular languages used in data science:\n\n- **Python**: Widely used for data analysis, machine learning, and scientific computing.\n- **R**: Popular for statistical analysis, data visualization, and machine learning.\n- **SQL**: Essential for database management and querying structured data.\n- **Julia**: Known for its high-performance numerical and scientific computing capabilities.\n- **Matlab/Octave**: Used in engineering and scientific applications for numerical analysis and simulation.\n",
      "metadata": {
        "trusted": true
      },
      "outputs": [],
      "execution_count": null
    },
    {
      "cell_type": "code",
      "source": "## Data Science Languages\n\nHere are some popular languages used in data science:\n\n- **Python**: Widely used for data analysis, machine learning, and scientific computing.\n- **R**: Popular for statistical analysis, data visualization, and machine learning.\n- **SQL**: Essential for database management and querying structured data.\n- **Julia**: Known for its high-performance numerical and scientific computing capabilities.\n- **Matlab/Octave**: Used in engineering and scientific applications for numerical analysis and simulation.\n",
      "metadata": {
        "trusted": true
      },
      "outputs": [],
      "execution_count": null
    },
    {
      "cell_type": "markdown",
      "source": "## Data Science Tools\n\n| Language | Libraries          | Tools                |\n|----------|--------------------|----------------------|\n| Python   | NumPy, Pandas,     | Jupyter Notebook,    |\n|          | Matplotlib,        | RStudio,             |\n|          | Seaborn,           | Spyder,              |\n|          | Scikit-learn       | VS Code,             |\n|          |                    | Anaconda Distribution|\n| R        | ggplot2, dplyr,    | RStudio,             |\n|          | tidyr, caret,      |                      |\n|          | ggvis              |                      |\n| SQL      | SQLite, PostgreSQL,|                      |\n|          | MySQL              |                      |\n| Julia    | Julia              |                      |\n| MATLAB   | MATLAB/Octave      |                      |",
      "metadata": {}
    },
    {
      "cell_type": "code",
      "source": "2 + 3",
      "metadata": {
        "trusted": true
      },
      "outputs": [
        {
          "execution_count": 5,
          "output_type": "execute_result",
          "data": {
            "text/plain": "5"
          },
          "metadata": {}
        }
      ],
      "execution_count": 5
    },
    {
      "cell_type": "code",
      "source": "# Multiply two numbers\nresult_multiply = 4 * 6\nprint(\"Result of multiplication:\", result_multiply)\n\n# Add two numbers\nresult_add = 2 + 3\nprint(\"Result of addition:\", result_add)",
      "metadata": {
        "trusted": true
      },
      "outputs": [
        {
          "name": "stdout",
          "text": "Result of multiplication: 24\nResult of addition: 5\n",
          "output_type": "stream"
        }
      ],
      "execution_count": 6
    },
    {
      "cell_type": "code",
      "source": "minutes = 120\n\n# Convert minutes to hours\nhours = minutes / 60\n\n# Print the result\nprint(minutes, \"minutes is equal to\", hours, \"hours\")",
      "metadata": {
        "trusted": true
      },
      "outputs": [
        {
          "name": "stdout",
          "text": "120 minutes is equal to 2.0 hours\n",
          "output_type": "stream"
        }
      ],
      "execution_count": 7
    },
    {
      "cell_type": "markdown",
      "source": "## Objectives\n\nIn this notebook, we aim to achieve the following objectives:\n\n1. Explore basic arithmetic operations.\n2. Understand how to convert minutes to hours.\n3. Introduce data science languages and libraries.\n4. Learn how to work with data science tools.\n5. Practice creating Markdown cells for documentation.\n6. Experiment with code cells to execute Python code.\n7. Enhance familiarity with Jupyter Notebook interface and features.",
      "metadata": {}
    },
    {
      "cell_type": "markdown",
      "source": "## Author\n\nThis notebook was authored by [DAT].",
      "metadata": {}
    },
    {
      "cell_type": "code",
      "source": "",
      "metadata": {
        "trusted": true
      },
      "outputs": [],
      "execution_count": null
    }
  ]
}